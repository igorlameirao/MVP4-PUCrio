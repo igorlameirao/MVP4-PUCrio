{
  "nbformat": 4,
  "nbformat_minor": 0,
  "metadata": {
    "colab": {
      "provenance": [],
      "collapsed_sections": [
        "LpZ7Tq82dnE9",
        "VRLFEKTVd58-",
        "Hj7hcw9beJUg",
        "UEvPmM9seTji"
      ],
      "authorship_tag": "ABX9TyMjVNpHeMsseA20/vuC7R5B",
      "include_colab_link": true
    },
    "kernelspec": {
      "name": "python3",
      "display_name": "Python 3"
    },
    "language_info": {
      "name": "python"
    }
  },
  "cells": [
    {
      "cell_type": "markdown",
      "metadata": {
        "id": "view-in-github",
        "colab_type": "text"
      },
      "source": [
        "<a href=\"https://colab.research.google.com/github/igorlameirao/MVP4-PUCrio/blob/main/Notebook%20-%20MVP4.ipynb\" target=\"_parent\"><img src=\"https://colab.research.google.com/assets/colab-badge.svg\" alt=\"Open In Colab\"/></a>"
      ]
    },
    {
      "cell_type": "markdown",
      "source": [
        "#Importando\n"
      ],
      "metadata": {
        "id": "LpZ7Tq82dnE9"
      }
    },
    {
      "cell_type": "code",
      "source": [
        "import pandas as pd\n",
        "from sklearn import datasets\n",
        "from sklearn.linear_model import LogisticRegression\n",
        "from sklearn.model_selection import train_test_split\n",
        "from pickle import dump\n",
        "from pickle import load"
      ],
      "metadata": {
        "id": "urZ456YZdp8z"
      },
      "execution_count": 3,
      "outputs": []
    },
    {
      "cell_type": "markdown",
      "source": [
        "#Lendo Dataset"
      ],
      "metadata": {
        "id": "-zAPw3EPdsJ-"
      }
    },
    {
      "cell_type": "code",
      "source": [
        "url = \"https://github.com/igorlameirao/MVP4-PUCrio/blob/main/estudo_covid.csv\"\n",
        "\n",
        "colunas = ['idade', 'leucocitos', 'basofilos', 'creatinina', 'proteina_c', 'hemoglobina', 'rt_pcr']\n",
        "dataset = pd.read_csv('estudo_covid.csv', names=colunas, skiprows=1, delimiter=',')\n",
        "\n",
        "# tratando e retirando as celular que estao com valores NaN\n",
        "dataset = dataset.dropna()\n",
        "\n",
        "# Pega apenas os dados do dataset e guardando em um array\n",
        "array = dataset.values\n",
        "\n",
        "# Separa o array em variáveis preditoras (X) e variável target (Y)\n",
        "X = array[:,0:6]\n",
        "Y = array[:,6]"
      ],
      "metadata": {
        "id": "3-B_Fp50duLU"
      },
      "execution_count": 8,
      "outputs": []
    },
    {
      "cell_type": "markdown",
      "source": [
        "#treinar modelo"
      ],
      "metadata": {
        "id": "VRLFEKTVd58-"
      }
    },
    {
      "cell_type": "code",
      "source": [
        "X_train, X_test, Y_train, Y_test = train_test_split(X, Y, test_size=0.33, random_state=7)\n",
        "\n",
        "modelo = LogisticRegression(solver='liblinear')\n",
        "\n",
        "# Treinando o modelo\n",
        "modelo.fit(X_train, Y_train)"
      ],
      "metadata": {
        "id": "NE_bKvJ4d7i5"
      },
      "execution_count": null,
      "outputs": []
    },
    {
      "cell_type": "markdown",
      "source": [
        "#Salvando o modelo em um arquivo"
      ],
      "metadata": {
        "id": "Hj7hcw9beJUg"
      }
    },
    {
      "cell_type": "code",
      "source": [
        "arquivo = \"modelo.pkl\"\n",
        "dump(modelo, open(arquivo, 'wb'))"
      ],
      "metadata": {
        "id": "RUXlRRnNeMKt"
      },
      "execution_count": null,
      "outputs": []
    },
    {
      "cell_type": "markdown",
      "source": [
        "#Ler arquivo e informar score"
      ],
      "metadata": {
        "id": "UEvPmM9seTji"
      }
    },
    {
      "cell_type": "code",
      "source": [
        "loaded_model = load(open(arquivo, 'rb'))\n",
        "result = loaded_model.score(X_test, Y_test)\n",
        "print(result)"
      ],
      "metadata": {
        "id": "2By2LMq1eZGP"
      },
      "execution_count": null,
      "outputs": []
    }
  ]
}
